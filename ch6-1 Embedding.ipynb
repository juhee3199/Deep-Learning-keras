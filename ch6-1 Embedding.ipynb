{
  "nbformat": 4,
  "nbformat_minor": 0,
  "metadata": {
    "colab": {
      "name": "ch6-1 Embedding.ipynb",
      "provenance": [],
      "collapsed_sections": []
    },
    "kernelspec": {
      "name": "python3",
      "display_name": "Python 3"
    }
  },
  "cells": [
    {
      "cell_type": "markdown",
      "metadata": {
        "id": "kC8njJoZP27W"
      },
      "source": [
        "### 6.1.1 단어와 문자의 원-핫 인코딩"
      ]
    },
    {
      "cell_type": "markdown",
      "metadata": {
        "id": "cbcD3UrE46Fj"
      },
      "source": [
        "단어수준의 one-hot encoding"
      ]
    },
    {
      "cell_type": "code",
      "metadata": {
        "id": "70BRS77Y3cTY"
      },
      "source": [
        "import numpy as np\n",
        "\n",
        "samples = ['The cat sat on the mat.', 'The dog ate my homework.']\n",
        "\n",
        "# samples의 모든 단어(토큰)에 대해 index를 부여.\n",
        "token_index = {}\n",
        "for sample in samples:\n",
        "  for word in sample.split():\n",
        "    if word not in token_index:\n",
        "      token_index[word] = len(token_index) + 1\n",
        "\n",
        "max_length = 10\n",
        "\n",
        "# 결과를 저장할 배열\n",
        "results = np.zeros(shape = (len(samples), \n",
        "                              max_length, \n",
        "                              max(token_index.values()) + 1))\n",
        "\n",
        "for i, sample in enumerate(samples):\n",
        "  for j, word in list(enumerate(sample.split()))[:max_length]:\n",
        "    index = token_index.get(word)\n",
        "    results[i, j, index] = 1."
      ],
      "execution_count": null,
      "outputs": []
    },
    {
      "cell_type": "code",
      "metadata": {
        "colab": {
          "base_uri": "https://localhost:8080/"
        },
        "id": "zol3yA8oJ-KX",
        "outputId": "4de5ed9e-eca8-411d-f3dd-dc365bacc523"
      },
      "source": [
        "token_index  # 각 단어의 인덱스."
      ],
      "execution_count": null,
      "outputs": [
        {
          "output_type": "execute_result",
          "data": {
            "text/plain": [
              "{'The': 1,\n",
              " 'ate': 8,\n",
              " 'cat': 2,\n",
              " 'dog': 7,\n",
              " 'homework.': 10,\n",
              " 'mat.': 6,\n",
              " 'my': 9,\n",
              " 'on': 4,\n",
              " 'sat': 3,\n",
              " 'the': 5}"
            ]
          },
          "metadata": {
            "tags": []
          },
          "execution_count": 2
        }
      ]
    },
    {
      "cell_type": "code",
      "metadata": {
        "colab": {
          "base_uri": "https://localhost:8080/"
        },
        "id": "zvTTwtgK5-Ko",
        "outputId": "f5917821-68bb-43e8-db45-4e73ad58b7b9"
      },
      "source": [
        "results"
      ],
      "execution_count": null,
      "outputs": [
        {
          "output_type": "execute_result",
          "data": {
            "text/plain": [
              "array([[[0., 1., 0., 0., 0., 0., 0., 0., 0., 0., 0.],\n",
              "        [0., 0., 1., 0., 0., 0., 0., 0., 0., 0., 0.],\n",
              "        [0., 0., 0., 1., 0., 0., 0., 0., 0., 0., 0.],\n",
              "        [0., 0., 0., 0., 1., 0., 0., 0., 0., 0., 0.],\n",
              "        [0., 0., 0., 0., 0., 1., 0., 0., 0., 0., 0.],\n",
              "        [0., 0., 0., 0., 0., 0., 1., 0., 0., 0., 0.],\n",
              "        [0., 0., 0., 0., 0., 0., 0., 0., 0., 0., 0.],\n",
              "        [0., 0., 0., 0., 0., 0., 0., 0., 0., 0., 0.],\n",
              "        [0., 0., 0., 0., 0., 0., 0., 0., 0., 0., 0.],\n",
              "        [0., 0., 0., 0., 0., 0., 0., 0., 0., 0., 0.]],\n",
              "\n",
              "       [[0., 1., 0., 0., 0., 0., 0., 0., 0., 0., 0.],\n",
              "        [0., 0., 0., 0., 0., 0., 0., 1., 0., 0., 0.],\n",
              "        [0., 0., 0., 0., 0., 0., 0., 0., 1., 0., 0.],\n",
              "        [0., 0., 0., 0., 0., 0., 0., 0., 0., 1., 0.],\n",
              "        [0., 0., 0., 0., 0., 0., 0., 0., 0., 0., 1.],\n",
              "        [0., 0., 0., 0., 0., 0., 0., 0., 0., 0., 0.],\n",
              "        [0., 0., 0., 0., 0., 0., 0., 0., 0., 0., 0.],\n",
              "        [0., 0., 0., 0., 0., 0., 0., 0., 0., 0., 0.],\n",
              "        [0., 0., 0., 0., 0., 0., 0., 0., 0., 0., 0.],\n",
              "        [0., 0., 0., 0., 0., 0., 0., 0., 0., 0., 0.]]])"
            ]
          },
          "metadata": {
            "tags": []
          },
          "execution_count": 7
        }
      ]
    },
    {
      "cell_type": "markdown",
      "metadata": {
        "id": "l8jNVQol5ZKZ"
      },
      "source": [
        "문자수준의 one-hot encoding"
      ]
    },
    {
      "cell_type": "code",
      "metadata": {
        "id": "LAgrb87M4x8-"
      },
      "source": [
        "import string\n",
        "\n",
        "samples = ['The cat sat on the mat.', 'The dog ate my homework.']\n",
        "characters = string.printable  # 출력 가능한 모든 아스키(ASCII) 문자\n",
        "\n",
        "token_index = dict(zip(characters, range(1, len(characters) + 1)))\n",
        "\n",
        "max_length = 50\n",
        "results = np.zeros((len(samples), max_length, max(token_index.values()) +1))\n",
        "for i, sample in enumerate(samples):\n",
        "  for j, character in enumerate(sample[:max_length]):\n",
        "    index = token_index.get(character)\n",
        "    results[i, j, index]=1."
      ],
      "execution_count": null,
      "outputs": []
    },
    {
      "cell_type": "code",
      "metadata": {
        "colab": {
          "base_uri": "https://localhost:8080/",
          "height": 35
        },
        "id": "FVjod-52Nagt",
        "outputId": "4c05a49b-d8e7-443e-fba1-eaeba8eed995"
      },
      "source": [
        "string.printable"
      ],
      "execution_count": null,
      "outputs": [
        {
          "output_type": "execute_result",
          "data": {
            "application/vnd.google.colaboratory.intrinsic+json": {
              "type": "string"
            },
            "text/plain": [
              "'0123456789abcdefghijklmnopqrstuvwxyzABCDEFGHIJKLMNOPQRSTUVWXYZ!\"#$%&\\'()*+,-./:;<=>?@[\\\\]^_`{|}~ \\t\\n\\r\\x0b\\x0c'"
            ]
          },
          "metadata": {
            "tags": []
          },
          "execution_count": 4
        }
      ]
    },
    {
      "cell_type": "code",
      "metadata": {
        "colab": {
          "base_uri": "https://localhost:8080/"
        },
        "id": "0juadEDs6Dwe",
        "outputId": "6116c0bb-4720-4dda-dc09-ca313ebd1d56"
      },
      "source": [
        "results"
      ],
      "execution_count": null,
      "outputs": [
        {
          "output_type": "execute_result",
          "data": {
            "text/plain": [
              "array([[[0., 0., 0., ..., 0., 0., 0.],\n",
              "        [0., 0., 0., ..., 0., 0., 0.],\n",
              "        [0., 0., 0., ..., 0., 0., 0.],\n",
              "        ...,\n",
              "        [0., 0., 0., ..., 0., 0., 0.],\n",
              "        [0., 0., 0., ..., 0., 0., 0.],\n",
              "        [0., 0., 0., ..., 0., 0., 0.]],\n",
              "\n",
              "       [[0., 0., 0., ..., 0., 0., 0.],\n",
              "        [0., 0., 0., ..., 0., 0., 0.],\n",
              "        [0., 0., 0., ..., 0., 0., 0.],\n",
              "        ...,\n",
              "        [0., 0., 0., ..., 0., 0., 0.],\n",
              "        [0., 0., 0., ..., 0., 0., 0.],\n",
              "        [0., 0., 0., ..., 0., 0., 0.]]])"
            ]
          },
          "metadata": {
            "tags": []
          },
          "execution_count": 5
        }
      ]
    },
    {
      "cell_type": "markdown",
      "metadata": {
        "id": "5PCv8f6u6Jkk"
      },
      "source": [
        "### 케라스를 사용한 단어수준의 원-핫 인코딩:\n",
        "\n",
        "케라스의 Tokenizer: 원본 텍스트 데이터를 단어 또는 문자 수준의 one-hot encoding으로 변환해준다.\n",
        "특수문자 제거, 빈도가 높은 N개의 단어만 선택"
      ]
    },
    {
      "cell_type": "code",
      "metadata": {
        "colab": {
          "base_uri": "https://localhost:8080/"
        },
        "id": "YIpAEmxz6G_k",
        "outputId": "a67db218-73f7-48ce-e156-2f87d3f73e1f"
      },
      "source": [
        "from keras.preprocessing.text import Tokenizer\n",
        "\n",
        "samples = ['The cat sat on the mat.', 'The dog ate my homework.']\n",
        "\n",
        "tokenizer = Tokenizer(num_words = 1000) # 가장 빈도가 높은 1000개의 단어만 선택하도록 함.\n",
        "tokenizer.fit_on_texts(samples) # 단어 인덱스 구축\n",
        "\n",
        "sequences = tokenizer.texts_to_sequences(samples) # 문자열을 정수 인덱스의 리스트로 변환\n",
        "\n",
        "one_hot_results = tokenizer.texts_to_matrix(samples, mode = 'binary') # 직접 one-hot 이진 벡터 표현을 얻음. \n",
        "\n",
        "word_index = tokenizer.word_index # 계산된 단어 인덱스를 구함.\n",
        "print(\"%s개의 고유한 토큰\" %len(word_index))"
      ],
      "execution_count": null,
      "outputs": [
        {
          "output_type": "stream",
          "text": [
            "9개의 고유한 토큰\n"
          ],
          "name": "stdout"
        }
      ]
    },
    {
      "cell_type": "code",
      "metadata": {
        "colab": {
          "base_uri": "https://localhost:8080/"
        },
        "id": "mS50j646PFWu",
        "outputId": "250f68c5-63b0-450d-fbe0-fa1e6cf00c0b"
      },
      "source": [
        "one_hot_results"
      ],
      "execution_count": null,
      "outputs": [
        {
          "output_type": "execute_result",
          "data": {
            "text/plain": [
              "array([[0., 1., 1., ..., 0., 0., 0.],\n",
              "       [0., 1., 0., ..., 0., 0., 0.]])"
            ]
          },
          "metadata": {
            "tags": []
          },
          "execution_count": 7
        }
      ]
    },
    {
      "cell_type": "code",
      "metadata": {
        "colab": {
          "base_uri": "https://localhost:8080/"
        },
        "id": "L-IxYTqn6_Vj",
        "outputId": "83761bbb-a9dc-4a5a-f7d8-8d1881ff20ee"
      },
      "source": [
        "word_index"
      ],
      "execution_count": null,
      "outputs": [
        {
          "output_type": "execute_result",
          "data": {
            "text/plain": [
              "{'ate': 7,\n",
              " 'cat': 2,\n",
              " 'dog': 6,\n",
              " 'homework': 9,\n",
              " 'mat': 5,\n",
              " 'my': 8,\n",
              " 'on': 4,\n",
              " 'sat': 3,\n",
              " 'the': 1}"
            ]
          },
          "metadata": {
            "tags": []
          },
          "execution_count": 17
        }
      ]
    },
    {
      "cell_type": "markdown",
      "metadata": {
        "id": "PiDk8Cns7FR2"
      },
      "source": [
        "### 해싱 기법을 사용한 단어 수준의 원-핫 인코딩(간단한 예):\n",
        "one-hot hashing 기법: 단어를 해싱하여 고정된 크기의 벡터로 변환.\n",
        "- 어휘 사전에 있는 고유한 토큰의 수가 너무 커서 모두 다루기 어려울 때 사용.\n",
        "- 메모리 절약 가능"
      ]
    },
    {
      "cell_type": "code",
      "metadata": {
        "id": "nValEfly6w7_"
      },
      "source": [
        "samples = ['The cat sat on the mat.', 'The dog ate my homework.']\n",
        "\n",
        "# 단어를 크기가 1,000인 벡터로 저장\n",
        "dimensionality = 1000\n",
        "max_length = 10\n",
        "\n",
        "results = np.zeros((len(samples), max_length, dimensionality))\n",
        "for i, sample in enumerate(samples):\n",
        "    for j, word in list(enumerate(sample.split()))[:max_length]:\n",
        "        # 단어를 해싱하여 0과 1,000 사이의 랜덤한 정수 인덱스로 변환\n",
        "        index = abs(hash(word)) % dimensionality\n",
        "        results[i, j, index] = 1."
      ],
      "execution_count": null,
      "outputs": []
    },
    {
      "cell_type": "code",
      "metadata": {
        "colab": {
          "base_uri": "https://localhost:8080/"
        },
        "id": "WZqxsJNb7VwU",
        "outputId": "472c2c88-88b0-42e1-ba3b-862df5361af5"
      },
      "source": [
        "results"
      ],
      "execution_count": null,
      "outputs": [
        {
          "output_type": "execute_result",
          "data": {
            "text/plain": [
              "array([[[0., 0., 0., ..., 0., 0., 0.],\n",
              "        [0., 0., 0., ..., 0., 0., 0.],\n",
              "        [0., 0., 0., ..., 0., 0., 0.],\n",
              "        ...,\n",
              "        [0., 0., 0., ..., 0., 0., 0.],\n",
              "        [0., 0., 0., ..., 0., 0., 0.],\n",
              "        [0., 0., 0., ..., 0., 0., 0.]],\n",
              "\n",
              "       [[0., 0., 0., ..., 0., 0., 0.],\n",
              "        [0., 0., 0., ..., 0., 0., 0.],\n",
              "        [0., 0., 0., ..., 0., 0., 0.],\n",
              "        ...,\n",
              "        [0., 0., 0., ..., 0., 0., 0.],\n",
              "        [0., 0., 0., ..., 0., 0., 0.],\n",
              "        [0., 0., 0., ..., 0., 0., 0.]]])"
            ]
          },
          "metadata": {
            "tags": []
          },
          "execution_count": 10
        }
      ]
    },
    {
      "cell_type": "code",
      "metadata": {
        "colab": {
          "base_uri": "https://localhost:8080/"
        },
        "id": "Fv1jwSKD7OvD",
        "outputId": "4ae216a5-0f19-4e20-83ac-fa07dd25f5aa"
      },
      "source": [
        "results.shape"
      ],
      "execution_count": null,
      "outputs": [
        {
          "output_type": "execute_result",
          "data": {
            "text/plain": [
              "(2, 10, 1000)"
            ]
          },
          "metadata": {
            "tags": []
          },
          "execution_count": 11
        }
      ]
    },
    {
      "cell_type": "markdown",
      "metadata": {
        "id": "_YNKOfU_PxWT"
      },
      "source": [
        "### 6.1.2 단어 임베딩 사용하기\r\n",
        "\r\n",
        "- 단어 임베딩: 밀집 벡터. 저차원의 실수형 벡터\r\n",
        "- 반면, 원핫 인코딩으로 만든 벡터는 고차원의 희소행렬이다.(sparse) \r\n",
        "- --> 따라서 단어 임베딩이 더 많은 정보를 적은 차원에 저장한다."
      ]
    },
    {
      "cell_type": "code",
      "metadata": {
        "id": "lwgOSXER7QAQ",
        "colab": {
          "base_uri": "https://localhost:8080/"
        },
        "outputId": "2745b5cd-be6e-4ce4-9a28-4160e57e2b88"
      },
      "source": [
        "# IMDB 데이터 로드\r\n",
        "\r\n",
        "from keras.datasets import imdb\r\n",
        "from keras import preprocessing\r\n",
        "\r\n",
        "max_features = 10000  # 특성으로 사용할 단어의 수\r\n",
        "maxlen = 20  # 사용할 텍스트의 길이\r\n",
        "\r\n",
        "(x_train, y_train), (x_test, y_test) = imdb.load_data(num_words = max_features)\r\n",
        "\r\n",
        "x_train = preprocessing.sequence.pad_sequences(x_train, maxlen = maxlen)\r\n",
        "x_test = preprocessing.sequence.pad_sequences(x_test, maxlen=maxlen)"
      ],
      "execution_count": null,
      "outputs": [
        {
          "output_type": "stream",
          "text": [
            "Downloading data from https://storage.googleapis.com/tensorflow/tf-keras-datasets/imdb.npz\n",
            "17465344/17464789 [==============================] - 0s 0us/step\n"
          ],
          "name": "stdout"
        }
      ]
    },
    {
      "cell_type": "code",
      "metadata": {
        "colab": {
          "base_uri": "https://localhost:8080/"
        },
        "id": "-WMKdrO8cgPr",
        "outputId": "90c3bba2-74e3-4fc4-ddc8-3dbfb84f46b9"
      },
      "source": [
        "x_train"
      ],
      "execution_count": null,
      "outputs": [
        {
          "output_type": "execute_result",
          "data": {
            "text/plain": [
              "array([[  65,   16,   38, ...,   19,  178,   32],\n",
              "       [  23,    4, 1690, ...,   16,  145,   95],\n",
              "       [1352,   13,  191, ...,    7,  129,  113],\n",
              "       ...,\n",
              "       [  11, 1818, 7561, ...,    4, 3586,    2],\n",
              "       [  92,  401,  728, ...,   12,    9,   23],\n",
              "       [ 764,   40,    4, ...,  204,  131,    9]], dtype=int32)"
            ]
          },
          "metadata": {
            "tags": []
          },
          "execution_count": 2
        }
      ]
    },
    {
      "cell_type": "code",
      "metadata": {
        "colab": {
          "base_uri": "https://localhost:8080/"
        },
        "id": "qzIGjNe8cNih",
        "outputId": "0b3d096a-85e1-48e5-fe5f-e6acc2ee0802"
      },
      "source": [
        "from keras.models import Sequential\r\n",
        "from keras.layers import Flatten, Dense, Embedding\r\n",
        "\r\n",
        "model = Sequential()\r\n",
        "model.add(Embedding(10000, 8, input_length = maxlen))\r\n",
        "\r\n",
        "model.add(Flatten()) # 2D텐서로\r\n",
        "\r\n",
        "model.add(Dense(1, activation = 'sigmoid'))\r\n",
        "model.compile(optimizer = 'rmsprop', loss = 'binary_crossentropy', metrics = ['acc'])\r\n",
        "model.summary()\r\n",
        "\r\n",
        "history = model.fit(x_train, y_train,\r\n",
        "                    epochs = 10,\r\n",
        "                    batch_size = 32,\r\n",
        "                    validation_split = 0.2)"
      ],
      "execution_count": null,
      "outputs": [
        {
          "output_type": "stream",
          "text": [
            "Model: \"sequential_1\"\n",
            "_________________________________________________________________\n",
            "Layer (type)                 Output Shape              Param #   \n",
            "=================================================================\n",
            "embedding_1 (Embedding)      (None, 20, 8)             80000     \n",
            "_________________________________________________________________\n",
            "flatten_1 (Flatten)          (None, 160)               0         \n",
            "_________________________________________________________________\n",
            "dense_1 (Dense)              (None, 1)                 161       \n",
            "=================================================================\n",
            "Total params: 80,161\n",
            "Trainable params: 80,161\n",
            "Non-trainable params: 0\n",
            "_________________________________________________________________\n",
            "Epoch 1/10\n",
            "625/625 [==============================] - 1s 2ms/step - loss: 0.6672 - acc: 0.6279 - val_loss: 0.6153 - val_acc: 0.6978\n",
            "Epoch 2/10\n",
            "625/625 [==============================] - 1s 1ms/step - loss: 0.5376 - acc: 0.7537 - val_loss: 0.5250 - val_acc: 0.7286\n",
            "Epoch 3/10\n",
            "625/625 [==============================] - 1s 1ms/step - loss: 0.4587 - acc: 0.7911 - val_loss: 0.4995 - val_acc: 0.7448\n",
            "Epoch 4/10\n",
            "625/625 [==============================] - 1s 1ms/step - loss: 0.4190 - acc: 0.8120 - val_loss: 0.4937 - val_acc: 0.7546\n",
            "Epoch 5/10\n",
            "625/625 [==============================] - 1s 1ms/step - loss: 0.3909 - acc: 0.8286 - val_loss: 0.4933 - val_acc: 0.7584\n",
            "Epoch 6/10\n",
            "625/625 [==============================] - 1s 1ms/step - loss: 0.3679 - acc: 0.8401 - val_loss: 0.4975 - val_acc: 0.7546\n",
            "Epoch 7/10\n",
            "625/625 [==============================] - 1s 1ms/step - loss: 0.3470 - acc: 0.8521 - val_loss: 0.5026 - val_acc: 0.7534\n",
            "Epoch 8/10\n",
            "625/625 [==============================] - 1s 1ms/step - loss: 0.3279 - acc: 0.8618 - val_loss: 0.5082 - val_acc: 0.7516\n",
            "Epoch 9/10\n",
            "625/625 [==============================] - 1s 1ms/step - loss: 0.3096 - acc: 0.8731 - val_loss: 0.5164 - val_acc: 0.7464\n",
            "Epoch 10/10\n",
            "625/625 [==============================] - 1s 1ms/step - loss: 0.2921 - acc: 0.8820 - val_loss: 0.5274 - val_acc: 0.7474\n"
          ],
          "name": "stdout"
        }
      ]
    },
    {
      "cell_type": "markdown",
      "metadata": {
        "id": "noAocDkgiqsx"
      },
      "source": [
        "### 6.1.3 원본텍스트에 GloVe 임베딩 적용하기"
      ]
    },
    {
      "cell_type": "code",
      "metadata": {
        "id": "MAcqtQQm6-Li"
      },
      "source": [
        "# !wget http://s3.amazonaws.com/text-datasets/aclImdb.zip\r\n",
        "# !unzip aclImdb.zip"
      ],
      "execution_count": null,
      "outputs": []
    },
    {
      "cell_type": "code",
      "metadata": {
        "id": "FCGeAVYqg4wY"
      },
      "source": [
        "import os\r\n",
        "\r\n",
        "imdb_dir = '/content/aclImdb'\r\n",
        "train_dir = os.path.join(imdb_dir, 'train')\r\n",
        "\r\n",
        "labels = []\r\n",
        "texts = []\r\n",
        "\r\n",
        "for label_type in ['neg', 'pos']:\r\n",
        "    dir_name = os.path.join(train_dir, label_type)\r\n",
        "    for fname in os.listdir(dir_name):\r\n",
        "        if fname[-4:] == '.txt':\r\n",
        "            f = open(os.path.join(dir_name, fname),encoding = \"utf8\")\r\n",
        "            texts.append(f.read())\r\n",
        "            f.close()\r\n",
        "            if label_type == 'neg':\r\n",
        "                labels.append(0)\r\n",
        "            else:\r\n",
        "                labels.append(1)"
      ],
      "execution_count": 77,
      "outputs": []
    },
    {
      "cell_type": "markdown",
      "metadata": {
        "id": "L3HBa16Jvdyw"
      },
      "source": [
        "데이터 토큰화"
      ]
    },
    {
      "cell_type": "code",
      "metadata": {
        "id": "bsv3KooQjoZI",
        "colab": {
          "base_uri": "https://localhost:8080/"
        },
        "outputId": "e1e37f84-77ad-465f-f12d-a02e394a692f"
      },
      "source": [
        "from keras.preprocessing.text import Tokenizer\r\n",
        "from keras.preprocessing.sequence import pad_sequences\r\n",
        "import numpy as np\r\n",
        "\r\n",
        "maxlen = 100  # 100개 단어 이후는 버립니다\r\n",
        "training_samples = 200  # 훈련 샘플은 200개입니다\r\n",
        "validation_samples = 10000  # 검증 샘플은 10,000개입니다\r\n",
        "max_words = 10000  # 데이터셋에서 가장 빈도 높은 10,000개의 단어만 사용합니다\r\n",
        "\r\n",
        "tokenizer = Tokenizer(num_words=max_words)\r\n",
        "tokenizer.fit_on_texts(texts)\r\n",
        "sequences = tokenizer.texts_to_sequences(texts)\r\n",
        "\r\n",
        "word_index = tokenizer.word_index\r\n",
        "print('%s개의 고유한 토큰을 찾았습니다.' % len(word_index))"
      ],
      "execution_count": 78,
      "outputs": [
        {
          "output_type": "stream",
          "text": [
            "88582개의 고유한 토큰을 찾았습니다.\n"
          ],
          "name": "stdout"
        }
      ]
    },
    {
      "cell_type": "code",
      "metadata": {
        "id": "X8FHUk9Ykya5",
        "colab": {
          "base_uri": "https://localhost:8080/"
        },
        "outputId": "f0df5526-ba11-416c-a780-1177c978637d"
      },
      "source": [
        "data = pad_sequences(sequences, maxlen=maxlen)\r\n",
        "\r\n",
        "labels = np.asarray(labels)\r\n",
        "print('데이터 텐서의 크기:', data.shape)\r\n",
        "print('레이블 텐서의 크기:', labels.shape)\r\n",
        "\r\n",
        "# 데이터를 훈련 세트와 검증 세트로 분할합니다.\r\n",
        "# 샘플이 순서대로 있기 때문에 (부정 샘플이 모두 나온 후에 긍정 샘플이 옵니다) \r\n",
        "# 먼저 데이터를 섞습니다.\r\n",
        "indices = np.arange(data.shape[0])\r\n",
        "np.random.shuffle(indices)\r\n",
        "data = data[indices]\r\n",
        "labels = labels[indices]\r\n",
        "\r\n",
        "x_train = data[:training_samples]\r\n",
        "y_train = labels[:training_samples]\r\n",
        "x_val = data[training_samples: training_samples + validation_samples]\r\n",
        "y_val = labels[training_samples: training_samples + validation_samples]"
      ],
      "execution_count": 79,
      "outputs": [
        {
          "output_type": "stream",
          "text": [
            "데이터 텐서의 크기: (25000, 100)\n",
            "레이블 텐서의 크기: (25000,)\n"
          ],
          "name": "stdout"
        }
      ]
    },
    {
      "cell_type": "markdown",
      "metadata": {
        "id": "6fSeCLRHwQOd"
      },
      "source": [
        "임베딩 전처리"
      ]
    },
    {
      "cell_type": "code",
      "metadata": {
        "colab": {
          "base_uri": "https://localhost:8080/"
        },
        "id": "9ycLddaCwSVB",
        "outputId": "4fe183b3-c996-405c-fb17-c812638daeb0"
      },
      "source": [
        "!wget http://nlp.stanford.edu/data/glove.6B.zip\r\n",
        "!unzip glove*.zip"
      ],
      "execution_count": 48,
      "outputs": [
        {
          "output_type": "stream",
          "text": [
            "--2020-12-12 16:28:45--  http://nlp.stanford.edu/data/glove.6B.zip\n",
            "Resolving nlp.stanford.edu (nlp.stanford.edu)... 171.64.67.140\n",
            "Connecting to nlp.stanford.edu (nlp.stanford.edu)|171.64.67.140|:80... connected.\n",
            "HTTP request sent, awaiting response... 302 Found\n",
            "Location: https://nlp.stanford.edu/data/glove.6B.zip [following]\n",
            "--2020-12-12 16:28:45--  https://nlp.stanford.edu/data/glove.6B.zip\n",
            "Connecting to nlp.stanford.edu (nlp.stanford.edu)|171.64.67.140|:443... connected.\n",
            "HTTP request sent, awaiting response... 301 Moved Permanently\n",
            "Location: http://downloads.cs.stanford.edu/nlp/data/glove.6B.zip [following]\n",
            "--2020-12-12 16:28:45--  http://downloads.cs.stanford.edu/nlp/data/glove.6B.zip\n",
            "Resolving downloads.cs.stanford.edu (downloads.cs.stanford.edu)... 171.64.64.22\n",
            "Connecting to downloads.cs.stanford.edu (downloads.cs.stanford.edu)|171.64.64.22|:80... connected.\n",
            "HTTP request sent, awaiting response... 200 OK\n",
            "Length: 862182613 (822M) [application/zip]\n",
            "Saving to: ‘glove.6B.zip’\n",
            "\n",
            "glove.6B.zip        100%[===================>] 822.24M  2.18MB/s    in 6m 27s  \n",
            "\n",
            "2020-12-12 16:35:12 (2.12 MB/s) - ‘glove.6B.zip’ saved [862182613/862182613]\n",
            "\n",
            "Archive:  glove.6B.zip\n",
            "  inflating: glove.6B.50d.txt        \n",
            "  inflating: glove.6B.100d.txt       \n",
            "  inflating: glove.6B.200d.txt       \n",
            "  inflating: glove.6B.300d.txt       \n"
          ],
          "name": "stdout"
        }
      ]
    },
    {
      "cell_type": "code",
      "metadata": {
        "colab": {
          "base_uri": "https://localhost:8080/"
        },
        "id": "j8qSzaAyyHxO",
        "outputId": "b4434749-6175-4b5a-f0d0-d7f537624372"
      },
      "source": [
        "glove_dir = './datasets/'\r\n",
        "\r\n",
        "embeddings_index = {}\r\n",
        "f = open(os.path.join(glove_dir, 'glove.6B.100d.txt'), encoding=\"utf8\")\r\n",
        "for line in f:\r\n",
        "    values = line.split()\r\n",
        "    word = values[0]\r\n",
        "    coefs = np.asarray(values[1:], dtype='float32')\r\n",
        "    embeddings_index[word] = coefs\r\n",
        "f.close()\r\n",
        "\r\n",
        "print('%s개의 단어 벡터를 찾았습니다.' % len(embeddings_index))"
      ],
      "execution_count": 65,
      "outputs": [
        {
          "output_type": "stream",
          "text": [
            "400000개의 단어 벡터를 찾았습니다.\n"
          ],
          "name": "stdout"
        }
      ]
    },
    {
      "cell_type": "markdown",
      "metadata": {
        "id": "Yb2t0M4H0qeI"
      },
      "source": [
        "GloVe 임베딩 행렬 준비하기\r\n",
        "- 임베딩 행렬의 i번째 원소는 (토큰화로 만든) 단어 인덱스의 i번째 단어에 상응하는 embedding_dim 차원 벡터이다."
      ]
    },
    {
      "cell_type": "code",
      "metadata": {
        "id": "jv0rd-FBzJEZ"
      },
      "source": [
        "embedding_dim = 100\r\n",
        "\r\n",
        "embedding_matrix = np.zeros((max_words, embedding_dim))\r\n",
        "\r\n",
        "for word, i in word_index.items():  # word_index: 위의 IMDB데이터셋에서 찾은 토큰 \r\n",
        "  if i < max_words:\r\n",
        "    embedding_vector = embeddings_index.get(word)\r\n",
        "    if embedding_vector is not None:\r\n",
        "      embedding_matrix[i] = embedding_vector # 임베딩 인덱스에 없는 단어는 모두 0이 된다."
      ],
      "execution_count": 66,
      "outputs": []
    },
    {
      "cell_type": "code",
      "metadata": {
        "colab": {
          "base_uri": "https://localhost:8080/"
        },
        "id": "4Cir-tFU0Hvd",
        "outputId": "37a81fd6-d06a-4e82-85cf-43489816cdca"
      },
      "source": [
        "# 모델 정의\r\n",
        "from keras.models import Sequential\r\n",
        "from keras.layers import Embedding, Flatten, Dense\r\n",
        "\r\n",
        "model = Sequential()\r\n",
        "model.add(Embedding(max_words, embedding_dim, input_length=maxlen))\r\n",
        "model.add(Flatten())\r\n",
        "model.add(Dense(32, activation='relu'))\r\n",
        "model.add(Dense(1, activation='sigmoid'))\r\n",
        "model.summary()"
      ],
      "execution_count": 80,
      "outputs": [
        {
          "output_type": "stream",
          "text": [
            "Model: \"sequential_5\"\n",
            "_________________________________________________________________\n",
            "Layer (type)                 Output Shape              Param #   \n",
            "=================================================================\n",
            "embedding_5 (Embedding)      (None, 100, 100)          1000000   \n",
            "_________________________________________________________________\n",
            "flatten_5 (Flatten)          (None, 10000)             0         \n",
            "_________________________________________________________________\n",
            "dense_8 (Dense)              (None, 32)                320032    \n",
            "_________________________________________________________________\n",
            "dense_9 (Dense)              (None, 1)                 33        \n",
            "=================================================================\n",
            "Total params: 1,320,065\n",
            "Trainable params: 1,320,065\n",
            "Non-trainable params: 0\n",
            "_________________________________________________________________\n"
          ],
          "name": "stdout"
        }
      ]
    },
    {
      "cell_type": "markdown",
      "metadata": {
        "id": "ksKYfFng1nH2"
      },
      "source": [
        "#### 모델에 GloVe 임베딩 로드하기\r\n",
        "- Embedding 층은 하나의 가중치 행렬을 가진다.\r\n",
        "- 이 행렬은 2D 부동 소수 행렬.\r\n",
        "- 각 i번째 원소는 i번째 인덱스에 상응하는 단어 벡터"
      ]
    },
    {
      "cell_type": "code",
      "metadata": {
        "id": "jnDorAbE1hZI"
      },
      "source": [
        "# GloVe 임베딩을 embedding 층에 로드하기.\r\n",
        "\r\n",
        "model.layers[0].set_weights([embedding_matrix])\r\n",
        "model.layers[0].trainable = False  # 랜덤하게 초기화되었다면 훈련하는 동안 사전훈련된 부분이 업데이트 되면 안됌."
      ],
      "execution_count": 81,
      "outputs": []
    },
    {
      "cell_type": "code",
      "metadata": {
        "colab": {
          "base_uri": "https://localhost:8080/"
        },
        "id": "rIyDqvJ81_s-",
        "outputId": "66753501-4cb5-4532-e3ee-e7d28a2628eb"
      },
      "source": [
        "# 모델 훈련과 평가\r\n",
        "\r\n",
        "model.compile(optimizer='rmsprop',\r\n",
        "              loss='binary_crossentropy',\r\n",
        "              metrics=['acc'])\r\n",
        "              \r\n",
        "history = model.fit(x_train, y_train,\r\n",
        "                    epochs=10,\r\n",
        "                    batch_size=32,\r\n",
        "                    validation_data=(x_val, y_val))\r\n",
        "model.save_weights('pre_trained_glove_model.h5')"
      ],
      "execution_count": 82,
      "outputs": [
        {
          "output_type": "stream",
          "text": [
            "Epoch 1/10\n",
            "7/7 [==============================] - 1s 96ms/step - loss: 1.4121 - acc: 0.4850 - val_loss: 0.6964 - val_acc: 0.5064\n",
            "Epoch 2/10\n",
            "7/7 [==============================] - 1s 77ms/step - loss: 0.6420 - acc: 0.7000 - val_loss: 0.6984 - val_acc: 0.5171\n",
            "Epoch 3/10\n",
            "7/7 [==============================] - 1s 82ms/step - loss: 0.5391 - acc: 0.7400 - val_loss: 0.7470 - val_acc: 0.5294\n",
            "Epoch 4/10\n",
            "7/7 [==============================] - 1s 80ms/step - loss: 0.4034 - acc: 0.8400 - val_loss: 0.9975 - val_acc: 0.5035\n",
            "Epoch 5/10\n",
            "7/7 [==============================] - 1s 79ms/step - loss: 0.2986 - acc: 0.8700 - val_loss: 0.6960 - val_acc: 0.5769\n",
            "Epoch 6/10\n",
            "7/7 [==============================] - 1s 75ms/step - loss: 0.1680 - acc: 0.9550 - val_loss: 1.5249 - val_acc: 0.5029\n",
            "Epoch 7/10\n",
            "7/7 [==============================] - 1s 77ms/step - loss: 0.1502 - acc: 0.9400 - val_loss: 1.2821 - val_acc: 0.5082\n",
            "Epoch 8/10\n",
            "7/7 [==============================] - 1s 75ms/step - loss: 0.1174 - acc: 0.9750 - val_loss: 0.8238 - val_acc: 0.5569\n",
            "Epoch 9/10\n",
            "7/7 [==============================] - 1s 77ms/step - loss: 0.0314 - acc: 1.0000 - val_loss: 0.7830 - val_acc: 0.5767\n",
            "Epoch 10/10\n",
            "7/7 [==============================] - 1s 81ms/step - loss: 0.0256 - acc: 1.0000 - val_loss: 0.7916 - val_acc: 0.5720\n"
          ],
          "name": "stdout"
        }
      ]
    },
    {
      "cell_type": "markdown",
      "metadata": {
        "id": "HXsWlrhI5IAX"
      },
      "source": [
        "결과 그래프 그리기"
      ]
    },
    {
      "cell_type": "code",
      "metadata": {
        "colab": {
          "base_uri": "https://localhost:8080/",
          "height": 545
        },
        "id": "_ekyorJq2WHP",
        "outputId": "1eb68c0b-a641-47b7-f5e7-049918285738"
      },
      "source": [
        "import matplotlib.pyplot as plt\r\n",
        "\r\n",
        "acc = history.history['acc']\r\n",
        "val_acc = history.history['val_acc']\r\n",
        "loss = history.history['loss']\r\n",
        "val_loss = history.history['val_loss']\r\n",
        "\r\n",
        "epochs = range(1, len(acc) + 1)\r\n",
        "\r\n",
        "plt.plot(epochs, acc, 'bo', label='Training acc')\r\n",
        "plt.plot(epochs, val_acc, 'b', label='Validation acc')\r\n",
        "plt.title('Training and validation accuracy')\r\n",
        "plt.legend()\r\n",
        "\r\n",
        "plt.figure()\r\n",
        "\r\n",
        "plt.plot(epochs, loss, 'bo', label='Training loss')\r\n",
        "plt.plot(epochs, val_loss, 'b', label='Validation loss')\r\n",
        "plt.title('Training and validation loss')\r\n",
        "plt.legend()\r\n",
        "\r\n",
        "plt.show()"
      ],
      "execution_count": 83,
      "outputs": [
        {
          "output_type": "display_data",
          "data": {
            "image/png": "[encoded data removed]",
            "text/plain": [
              "<Figure size 432x288 with 1 Axes>"
            ]
          },
          "metadata": {
            "tags": [],
            "needs_background": "light"
          }
        },
        {
          "output_type": "display_data",
          "data": {
            "image/png": "[encoded data removed]",
            "text/plain": [
              "<Figure size 432x288 with 1 Axes>"
            ]
          },
          "metadata": {
            "tags": [],
            "needs_background": "light"
          }
        }
      ]
    },
    {
      "cell_type": "markdown",
      "metadata": {
        "id": "ti59okOx5UZU"
      },
      "source": [
        "- 과대적합이 빠르게 일어나는 것을 볼 수 있다. training acc은 높지만, validation acc은 낮다.\r\n",
        "- training sample수가 적기 때문에 위와 같이 나타날 수 있다.\r\n",
        "- 어떤 샘플200개를 선택했는지에 따라 성능이 크게 좌우된다. 그래서 다른 샘플을 랜덤하게 다시 추출하면 또 다른 결과가 나올 수 있다. \r\n",
        "\r\n",
        "- 데이터가 풍부하다면, 사전훈련된 단어 임베딩(GloVe) 보다 해당 작업에 특화된 입력 토큰의 임베딩 학습이 더 성능이 높을 수 있다."
      ]
    },
    {
      "cell_type": "markdown",
      "metadata": {
        "id": "fbzmxsWn5-_D"
      },
      "source": [
        "테스트 데이터 토큰화하고 \r\n",
        "테스트 데이터에서 모델 평가하기."
      ]
    },
    {
      "cell_type": "code",
      "metadata": {
        "id": "-0bFxGoq5JdX"
      },
      "source": [
        "test_dir = os.path.join(imdb_dir, 'test')\r\n",
        "\r\n",
        "labels = []\r\n",
        "texts = []\r\n",
        "\r\n",
        "for label_type in ['neg', 'pos']:\r\n",
        "    dir_name = os.path.join(test_dir, label_type)\r\n",
        "    for fname in sorted(os.listdir(dir_name)):\r\n",
        "        if fname[-4:] == '.txt':\r\n",
        "            f = open(os.path.join(dir_name, fname), encoding=\"utf8\")\r\n",
        "            texts.append(f.read())\r\n",
        "            f.close()\r\n",
        "            if label_type == 'neg':\r\n",
        "                labels.append(0)\r\n",
        "            else:\r\n",
        "                labels.append(1)\r\n",
        "\r\n",
        "sequences = tokenizer.texts_to_sequences(texts)\r\n",
        "x_test = pad_sequences(sequences, maxlen=maxlen)\r\n",
        "y_test = np.asarray(labels)"
      ],
      "execution_count": 84,
      "outputs": []
    },
    {
      "cell_type": "code",
      "metadata": {
        "colab": {
          "base_uri": "https://localhost:8080/"
        },
        "id": "PUkAZavQ6Hyq",
        "outputId": "a3a214ba-ba2e-48d8-f1be-fd67932aa7ee"
      },
      "source": [
        "model.load_weights('pre_trained_glove_model.h5')\r\n",
        "model.evaluate(x_test, y_test)\r\n",
        "\r\n",
        "# 테스트 정확도는 50%"
      ],
      "execution_count": 85,
      "outputs": [
        {
          "output_type": "stream",
          "text": [
            "749/749 [==============================] - 1s 2ms/step - loss: 0.7893 - acc: 0.5737\n"
          ],
          "name": "stdout"
        },
        {
          "output_type": "execute_result",
          "data": {
            "text/plain": [
              "[0.7893432378768921, 0.5736883878707886]"
            ]
          },
          "metadata": {
            "tags": []
          },
          "execution_count": 85
        }
      ]
    },
    {
      "cell_type": "code",
      "metadata": {
        "id": "TS-PIlWN6OkC"
      },
      "source": [
        ""
      ],
      "execution_count": null,
      "outputs": []
    }
  ]
}