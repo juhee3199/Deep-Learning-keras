{
  "nbformat": 4,
  "nbformat_minor": 0,
  "metadata": {
    "colab": {
      "name": "DL-2.ipynb",
      "provenance": [],
      "collapsed_sections": []
    },
    "kernelspec": {
      "name": "python3",
      "display_name": "Python 3"
    },
    "accelerator": "GPU"
  },
  "cells": [
    {
      "cell_type": "code",
      "metadata": {
        "id": "3TvEHHc6L4Og"
      },
      "source": [
        "from keras.datasets import mnist\n",
        "\n",
        "(train_images, train_labels), (test_images, test_labels) = mnist.load_data()"
      ],
      "execution_count": 32,
      "outputs": []
    },
    {
      "cell_type": "code",
      "metadata": {
        "id": "jMUwGlrYMGwz",
        "outputId": "1bf410f6-bb14-444c-d41d-55feb7eb1233",
        "colab": {
          "base_uri": "https://localhost:8080/",
          "height": 35
        }
      },
      "source": [
        "train_images.shape"
      ],
      "execution_count": 33,
      "outputs": [
        {
          "output_type": "execute_result",
          "data": {
            "text/plain": [
              "(60000, 28, 28)"
            ]
          },
          "metadata": {
            "tags": []
          },
          "execution_count": 33
        }
      ]
    },
    {
      "cell_type": "code",
      "metadata": {
        "id": "xD6bxVKoMSC4",
        "outputId": "e7d366c8-fd99-4bb4-b689-ce35161be6b0",
        "colab": {
          "base_uri": "https://localhost:8080/",
          "height": 35
        }
      },
      "source": [
        "len(train_labels)"
      ],
      "execution_count": 34,
      "outputs": [
        {
          "output_type": "execute_result",
          "data": {
            "text/plain": [
              "60000"
            ]
          },
          "metadata": {
            "tags": []
          },
          "execution_count": 34
        }
      ]
    },
    {
      "cell_type": "code",
      "metadata": {
        "id": "3NrdL7bgMUpb",
        "outputId": "038d3646-9e98-4ec5-f5d1-a58efc799fca",
        "colab": {
          "base_uri": "https://localhost:8080/",
          "height": 35
        }
      },
      "source": [
        "train_labels"
      ],
      "execution_count": 35,
      "outputs": [
        {
          "output_type": "execute_result",
          "data": {
            "text/plain": [
              "array([5, 0, 4, ..., 5, 6, 8], dtype=uint8)"
            ]
          },
          "metadata": {
            "tags": []
          },
          "execution_count": 35
        }
      ]
    },
    {
      "cell_type": "code",
      "metadata": {
        "id": "VV6pOkO-S3io",
        "outputId": "48a6fd25-c04f-478f-86d7-55a4c5e5d12d",
        "colab": {
          "base_uri": "https://localhost:8080/",
          "height": 265
        }
      },
      "source": [
        "digit = train_images[4]\n",
        "\n",
        "import matplotlib.pyplot as plt\n",
        "\n",
        "plt.imshow(digit, cmap=plt.cm.binary)\n",
        "plt.show()"
      ],
      "execution_count": 36,
      "outputs": [
        {
          "output_type": "display_data",
          "data": {
            "image/png": "[encoded data removed]",
            "text/plain": [
              "<Figure size 432x288 with 1 Axes>"
            ]
          },
          "metadata": {
            "tags": [],
            "needs_background": "light"
          }
        }
      ]
    },
    {
      "cell_type": "code",
      "metadata": {
        "id": "Qdc7l497MbNu",
        "outputId": "ee63da0f-8d66-4e48-ef5a-bc026bb9098d",
        "colab": {
          "base_uri": "https://localhost:8080/",
          "height": 52
        }
      },
      "source": [
        "print(test_images.shape)\n",
        "print(len(test_labels))"
      ],
      "execution_count": 7,
      "outputs": [
        {
          "output_type": "stream",
          "text": [
            "(10000, 28, 28)\n",
            "10000\n"
          ],
          "name": "stdout"
        }
      ]
    },
    {
      "cell_type": "code",
      "metadata": {
        "id": "4rwPqQxWMdM9"
      },
      "source": [
        "from keras import models\n",
        "from keras import layers\n",
        "\n",
        "network=models.Sequential()\n",
        "network.add(layers.Dense(512, activation='relu', input_shape=(28*28, )))\n",
        "network.add(layers.Dense(10,activation='softmax'))"
      ],
      "execution_count": 8,
      "outputs": []
    },
    {
      "cell_type": "code",
      "metadata": {
        "id": "F9GXJ8xCM_f2"
      },
      "source": [
        "# 옵티마이저, 손실함수, 지표 설정\n",
        "\n",
        "network.compile(optimizer='rmsprop',\n",
        "                loss='categorical_crossentropy',\n",
        "                metrics=['accuracy'])"
      ],
      "execution_count": 9,
      "outputs": []
    },
    {
      "cell_type": "code",
      "metadata": {
        "id": "D-xR-NVONxBL"
      },
      "source": [
        "# 모든 값을 0과 1사이로 스케일링\n",
        "# [0, 255]사이의 값인 unit8 타입의 (60000, 28*28)  --> 0과1사이의 값을 가지는 float32타입의 (60000, 28*28) 크기의 배열로 변경.\n",
        "\n",
        "train_images=train_images.reshape((60000, 28*28))\n",
        "train_images=train_images.astype('float32')/255\n",
        "\n",
        "test_images=test_images.reshape((10000, 28*28))\n",
        "test_images=test_images.astype('float32')/255"
      ],
      "execution_count": 10,
      "outputs": []
    },
    {
      "cell_type": "code",
      "metadata": {
        "id": "7xL0nyAYODeq"
      },
      "source": [
        "from keras.utils import to_categorical\n",
        "\n",
        "train_labels=to_categorical(train_labels)\n",
        "test_labels=to_categorical(test_labels)"
      ],
      "execution_count": 12,
      "outputs": []
    },
    {
      "cell_type": "code",
      "metadata": {
        "id": "z8g1p5juPBsp",
        "outputId": "cb0cc852-b3d7-4962-8747-a2e68a334233",
        "colab": {
          "base_uri": "https://localhost:8080/",
          "height": 212
        }
      },
      "source": [
        "# 신경망 학습\n",
        "network.fit(train_images, train_labels, epochs=5, batch_size=128)"
      ],
      "execution_count": 13,
      "outputs": [
        {
          "output_type": "stream",
          "text": [
            "Epoch 1/5\n",
            "469/469 [==============================] - 1s 3ms/step - loss: 0.2561 - accuracy: 0.9261\n",
            "Epoch 2/5\n",
            "469/469 [==============================] - 1s 3ms/step - loss: 0.1056 - accuracy: 0.9686\n",
            "Epoch 3/5\n",
            "469/469 [==============================] - 1s 3ms/step - loss: 0.0693 - accuracy: 0.9790\n",
            "Epoch 4/5\n",
            "469/469 [==============================] - 1s 3ms/step - loss: 0.0500 - accuracy: 0.9854\n",
            "Epoch 5/5\n",
            "469/469 [==============================] - 1s 3ms/step - loss: 0.0377 - accuracy: 0.9887\n"
          ],
          "name": "stdout"
        },
        {
          "output_type": "execute_result",
          "data": {
            "text/plain": [
              "<tensorflow.python.keras.callbacks.History at 0x7faea6ee75f8>"
            ]
          },
          "metadata": {
            "tags": []
          },
          "execution_count": 13
        }
      ]
    },
    {
      "cell_type": "code",
      "metadata": {
        "id": "RYYgTRXjPTRA",
        "outputId": "9cd2214d-1882-4c50-fb14-2ddac0eae04b",
        "colab": {
          "base_uri": "https://localhost:8080/",
          "height": 35
        }
      },
      "source": [
        "# test데이터 확인\n",
        "\n",
        "test_loss, test_acc=network.evaluate(test_images, test_labels)\n",
        "\n",
        "#--> 과대적합. train의 정확도에 비해 낮음. "
      ],
      "execution_count": 14,
      "outputs": [
        {
          "output_type": "stream",
          "text": [
            "313/313 [==============================] - 1s 2ms/step - loss: 0.0686 - accuracy: 0.9797\n"
          ],
          "name": "stdout"
        }
      ]
    },
    {
      "cell_type": "code",
      "metadata": {
        "id": "-ZpC-DXeRIQu",
        "outputId": "13d01e60-d816-4efd-da6f-ffbd456c5782",
        "colab": {
          "base_uri": "https://localhost:8080/",
          "height": 265
        }
      },
      "source": [
        "import matplotlib.pyplot as plt\n",
        "\n",
        "plt.imshow(train_images.reshape(-1, 28, 28)[0], cmap=plt.cm.binary)\n",
        "plt.show()\n",
        "\n"
      ],
      "execution_count": 22,
      "outputs": [
        {
          "output_type": "display_data",
          "data": {
            "image/png": "[encoded data removed]",
            "text/plain": [
              "<Figure size 432x288 with 1 Axes>"
            ]
          },
          "metadata": {
            "tags": [],
            "needs_background": "light"
          }
        }
      ]
    },
    {
      "cell_type": "markdown",
      "metadata": {
        "id": "Krf1bVYPP9RL"
      },
      "source": [
        "# 2-2 신경망 데이터 표현"
      ]
    },
    {
      "cell_type": "code",
      "metadata": {
        "id": "0DHYPA8JP_jv",
        "outputId": "07e45df7-8431-4a27-c645-ca91d10e2b45",
        "colab": {
          "base_uri": "https://localhost:8080/",
          "height": 35
        }
      },
      "source": [
        "## 2.2.1 스칼라(0D 텐서)\n",
        "\n",
        "import numpy as np\n",
        "x=np.array(12)\n",
        "x"
      ],
      "execution_count": 18,
      "outputs": [
        {
          "output_type": "execute_result",
          "data": {
            "text/plain": [
              "array(12)"
            ]
          },
          "metadata": {
            "tags": []
          },
          "execution_count": 18
        }
      ]
    },
    {
      "cell_type": "code",
      "metadata": {
        "id": "yOyTINqsQdwR",
        "outputId": "bdc7f96e-30fc-49a2-f2f7-6b8003b4c078",
        "colab": {
          "base_uri": "https://localhost:8080/",
          "height": 35
        }
      },
      "source": [
        "x.ndim"
      ],
      "execution_count": 19,
      "outputs": [
        {
          "output_type": "execute_result",
          "data": {
            "text/plain": [
              "0"
            ]
          },
          "metadata": {
            "tags": []
          },
          "execution_count": 19
        }
      ]
    },
    {
      "cell_type": "code",
      "metadata": {
        "id": "Ad47I8NAQmx5",
        "outputId": "7d18c2f2-0329-4848-e924-5c7638531efd",
        "colab": {
          "base_uri": "https://localhost:8080/",
          "height": 35
        }
      },
      "source": [
        "## 2.2.2 벡터 (1D 텐서)\n",
        "\n",
        "x=np.array([12, 3, 6, 14, 7])\n",
        "x"
      ],
      "execution_count": 41,
      "outputs": [
        {
          "output_type": "execute_result",
          "data": {
            "text/plain": [
              "array([12,  3,  6, 14,  7])"
            ]
          },
          "metadata": {
            "tags": []
          },
          "execution_count": 41
        }
      ]
    },
    {
      "cell_type": "code",
      "metadata": {
        "id": "2JXIp320Q2nN",
        "outputId": "c336bc4e-750e-4e0e-92c7-0b5c24d5c1ba",
        "colab": {
          "base_uri": "https://localhost:8080/",
          "height": 35
        }
      },
      "source": [
        "x.ndim"
      ],
      "execution_count": 21,
      "outputs": [
        {
          "output_type": "execute_result",
          "data": {
            "text/plain": [
              "1"
            ]
          },
          "metadata": {
            "tags": []
          },
          "execution_count": 21
        }
      ]
    },
    {
      "cell_type": "code",
      "metadata": {
        "id": "R83i2I_yQ3x1",
        "outputId": "c1c80abd-32db-4cd3-87af-f619a13645ac",
        "colab": {
          "base_uri": "https://localhost:8080/",
          "height": 35
        }
      },
      "source": [
        "# 행렬(3D 텐서)\n",
        "\n",
        "x=np.array([[5, 78, 2, 34, 0],\n",
        "            [6, 79, 2, 34, 0],\n",
        "            [7, 80, 4, 36, 2]])\n",
        "x.ndim"
      ],
      "execution_count": 23,
      "outputs": [
        {
          "output_type": "execute_result",
          "data": {
            "text/plain": [
              "2"
            ]
          },
          "metadata": {
            "tags": []
          },
          "execution_count": 23
        }
      ]
    },
    {
      "cell_type": "code",
      "metadata": {
        "id": "FIWaJ6YoRkjX",
        "outputId": "a4da96e4-0bf8-4f22-9493-bcfad7feb87c",
        "colab": {
          "base_uri": "https://localhost:8080/",
          "height": 35
        }
      },
      "source": [
        "# 3D 텐서와 고차원 텐서\n",
        "x=np.array([[[5, 78, 2, 34, 0],\n",
        "            [6, 79, 2, 34, 0],\n",
        "            [7, 80, 4, 36, 2]],\n",
        "            [[5, 78, 2, 34, 0],\n",
        "            [6, 79, 2, 34, 0],\n",
        "            [7, 80, 4, 36, 2]],\n",
        "            [[5, 78, 2, 34, 0],\n",
        "            [6, 79, 2, 34, 0],\n",
        "            [7, 80, 4, 36, 2]]])\n",
        "x.ndim"
      ],
      "execution_count": 24,
      "outputs": [
        {
          "output_type": "execute_result",
          "data": {
            "text/plain": [
              "3"
            ]
          },
          "metadata": {
            "tags": []
          },
          "execution_count": 24
        }
      ]
    },
    {
      "cell_type": "code",
      "metadata": {
        "id": "cRUcIZwqR3DT",
        "outputId": "64564a8a-ec4d-41cd-e775-8d13d5e8fc54",
        "colab": {
          "base_uri": "https://localhost:8080/",
          "height": 35
        }
      },
      "source": [
        "## 2.2.6 넘파이로 텐서 조작하기\n",
        "\n",
        "my_slice=train_images[10:100]\n",
        "my_slice.shape"
      ],
      "execution_count": 37,
      "outputs": [
        {
          "output_type": "execute_result",
          "data": {
            "text/plain": [
              "(90, 28, 28)"
            ]
          },
          "metadata": {
            "tags": []
          },
          "execution_count": 37
        }
      ]
    },
    {
      "cell_type": "code",
      "metadata": {
        "id": "lD0Xa0y9SoXB",
        "outputId": "a4873fb0-e4ea-46b8-f116-b8dcfdc16ab2",
        "colab": {
          "base_uri": "https://localhost:8080/",
          "height": 35
        }
      },
      "source": [
        "my_slice=train_images[10:100, :, :]\n",
        "my_slice.shape"
      ],
      "execution_count": 38,
      "outputs": [
        {
          "output_type": "execute_result",
          "data": {
            "text/plain": [
              "(90, 28, 28)"
            ]
          },
          "metadata": {
            "tags": []
          },
          "execution_count": 38
        }
      ]
    },
    {
      "cell_type": "code",
      "metadata": {
        "id": "yt63sG_wUGEi",
        "outputId": "7a2c0bf7-c71a-4ee1-c39c-17c38b86fead",
        "colab": {
          "base_uri": "https://localhost:8080/",
          "height": 35
        }
      },
      "source": [
        "my_slice=train_images[:, 14:, 14:]\n",
        "my_slice.shape"
      ],
      "execution_count": 39,
      "outputs": [
        {
          "output_type": "execute_result",
          "data": {
            "text/plain": [
              "(60000, 14, 14)"
            ]
          },
          "metadata": {
            "tags": []
          },
          "execution_count": 39
        }
      ]
    },
    {
      "cell_type": "markdown",
      "metadata": {
        "id": "_FG8a3N-WRHt"
      },
      "source": [
        "## 2.3 텐서 연산"
      ]
    },
    {
      "cell_type": "code",
      "metadata": {
        "id": "zCbuhYGVURPk",
        "outputId": "8a327f67-4396-4d4e-a323-497c54a7cd1f",
        "colab": {
          "base_uri": "https://localhost:8080/",
          "height": 206
        }
      },
      "source": [
        "keras.layers.Dense(512, activation='relu')\n",
        "output=relu(dot(W, input)+b)\n",
        "output"
      ],
      "execution_count": 43,
      "outputs": [
        {
          "output_type": "error",
          "ename": "NameError",
          "evalue": "ignored",
          "traceback": [
            "\u001b[0;31m---------------------------------------------------------------------------\u001b[0m",
            "\u001b[0;31mNameError\u001b[0m                                 Traceback (most recent call last)",
            "\u001b[0;32m<ipython-input-43-8d6e6d3ba2ad>\u001b[0m in \u001b[0;36m<module>\u001b[0;34m()\u001b[0m\n\u001b[1;32m      1\u001b[0m \u001b[0;31m#keras.layers.Dense(512, activation='relu')\u001b[0m\u001b[0;34m\u001b[0m\u001b[0;34m\u001b[0m\u001b[0;34m\u001b[0m\u001b[0m\n\u001b[0;32m----> 2\u001b[0;31m \u001b[0moutput\u001b[0m\u001b[0;34m=\u001b[0m\u001b[0mrelu\u001b[0m\u001b[0;34m(\u001b[0m\u001b[0mdot\u001b[0m\u001b[0;34m(\u001b[0m\u001b[0mW\u001b[0m\u001b[0;34m,\u001b[0m \u001b[0minput\u001b[0m\u001b[0;34m)\u001b[0m\u001b[0;34m+\u001b[0m\u001b[0mb\u001b[0m\u001b[0;34m)\u001b[0m\u001b[0;34m\u001b[0m\u001b[0;34m\u001b[0m\u001b[0m\n\u001b[0m\u001b[1;32m      3\u001b[0m \u001b[0moutput\u001b[0m\u001b[0;34m\u001b[0m\u001b[0;34m\u001b[0m\u001b[0m\n",
            "\u001b[0;31mNameError\u001b[0m: name 'relu' is not defined"
          ]
        }
      ]
    },
    {
      "cell_type": "code",
      "metadata": {
        "id": "nzY_-2ctXoC7"
      },
      "source": [
        "## 2.3.1 원소별 연산\n",
        "\n",
        "z=x+y   #원소별 덧셈\n",
        "z=np.maximum(z,0.)  #원소별 렐루함수"
      ],
      "execution_count": null,
      "outputs": []
    },
    {
      "cell_type": "code",
      "metadata": {
        "id": "bmmhhoA5XvTR",
        "outputId": "86e4a7d3-f50c-46be-8897-4211a71c591d",
        "colab": {
          "base_uri": "https://localhost:8080/",
          "height": 35
        }
      },
      "source": [
        "## 2.3.2 브로드 캐스팅\n",
        "# : 2D 텐서와 벡터간의 연산\n",
        "\n",
        "x=np.random.random((64, 3, 32, 10))\n",
        "y=np.random.random((32, 10))\n",
        "\n",
        "z=np.maximum(x, y)\n",
        "z.shape"
      ],
      "execution_count": 47,
      "outputs": [
        {
          "output_type": "execute_result",
          "data": {
            "text/plain": [
              "(64, 3, 32, 10)"
            ]
          },
          "metadata": {
            "tags": []
          },
          "execution_count": 47
        }
      ]
    },
    {
      "cell_type": "code",
      "metadata": {
        "id": "3JhZR7NCYfx6"
      },
      "source": [
        "## 2.3.3 텐서 점곱\n",
        "# : 입력텐서의 원소들을 결합\n",
        "\n",
        "# x.shape: (a,b)\n",
        "# y.sahpe: (b,c)\n",
        "# z=dot(x,y)   # z.shape: (a,c)"
      ],
      "execution_count": null,
      "outputs": []
    },
    {
      "cell_type": "code",
      "metadata": {
        "id": "xX-1FVPzamQs",
        "outputId": "34afdc61-c722-44bb-f323-2b5acd866213",
        "colab": {
          "base_uri": "https://localhost:8080/",
          "height": 141
        }
      },
      "source": [
        "## 2.3.4 텐서 크기 변환\n",
        "# : 변환된 텐서는 원래 텐서와 원소개수가 동일하다.\n",
        "\n",
        "x=np.array([[0., 1.],\n",
        "            [2., 3.],\n",
        "            [4., 5.]])\n",
        "print(x.shape)\n",
        "\n",
        "x=x.reshape((6,1))\n",
        "x"
      ],
      "execution_count": 48,
      "outputs": [
        {
          "output_type": "stream",
          "text": [
            "(3, 2)\n"
          ],
          "name": "stdout"
        },
        {
          "output_type": "execute_result",
          "data": {
            "text/plain": [
              "array([[0.],\n",
              "       [1.],\n",
              "       [2.],\n",
              "       [3.],\n",
              "       [4.],\n",
              "       [5.]])"
            ]
          },
          "metadata": {
            "tags": []
          },
          "execution_count": 48
        }
      ]
    },
    {
      "cell_type": "code",
      "metadata": {
        "id": "eCdkSt5FbAvc",
        "outputId": "23be7e18-d2f6-4d7e-fd57-1336e81b576d",
        "colab": {
          "base_uri": "https://localhost:8080/",
          "height": 52
        }
      },
      "source": [
        "x=x.reshape((2,3))\n",
        "x"
      ],
      "execution_count": 49,
      "outputs": [
        {
          "output_type": "execute_result",
          "data": {
            "text/plain": [
              "array([[0., 1., 2.],\n",
              "       [3., 4., 5.]])"
            ]
          },
          "metadata": {
            "tags": []
          },
          "execution_count": 49
        }
      ]
    },
    {
      "cell_type": "code",
      "metadata": {
        "id": "DORuSUEfbExB",
        "outputId": "5015237f-8b32-4136-98be-7e94d569fc2c",
        "colab": {
          "base_uri": "https://localhost:8080/",
          "height": 35
        }
      },
      "source": [
        "# 전치\n",
        "x=np.zeros((300,20))\n",
        "x=np.transpose(x)\n",
        "print(x.shape)"
      ],
      "execution_count": 50,
      "outputs": [
        {
          "output_type": "stream",
          "text": [
            "(20, 300)\n"
          ],
          "name": "stdout"
        }
      ]
    },
    {
      "cell_type": "markdown",
      "metadata": {
        "id": "HQjvsCH5flw1"
      },
      "source": [
        "## 2.4.3 확률적 경사하강법"
      ]
    },
    {
      "cell_type": "code",
      "metadata": {
        "id": "yE8JJ8ncbK6S"
      },
      "source": [
        "import matplotlib.pyplot as plt\n",
        "from keras import models, layers, losses\n",
        "\n",
        "network = models.Sequential()\n",
        "network.add(layers.Dense(1))\n",
        "\n",
        "network.compile(optimizer='SGD', loss='mean_squared_error')"
      ],
      "execution_count": 1,
      "outputs": []
    },
    {
      "cell_type": "code",
      "metadata": {
        "id": "O09M2UH7fxtO",
        "outputId": "06bada45-5086-4b40-fe9b-6215eb865d37",
        "colab": {
          "base_uri": "https://localhost:8080/",
          "height": 667
        }
      },
      "source": [
        "# 최적화 과정 시각화\n",
        "import numpy as np\n",
        "\n",
        "x = np.array([[0.8]])\n",
        "y = np.array([[0.2]])\n",
        "\n",
        "for i in range(5):\n",
        "    l = np.linspace(0,1,100)\n",
        "    network.fit(x, y, epochs=20, verbose=0)\n",
        "\n",
        "    plt.subplot(211)\n",
        "    plt.scatter(x, y)\n",
        "    plt.plot(l, network.predict(l))\n",
        "    plt.show()"
      ],
      "execution_count": 3,
      "outputs": [
        {
          "output_type": "display_data",
          "data": {
            "image/png": "[encoded data removed]",
            "text/plain": [
              "<Figure size 432x288 with 1 Axes>"
            ]
          },
          "metadata": {
            "tags": [],
            "needs_background": "light"
          }
        },
        {
          "output_type": "display_data",
          "data": {
            "image/png": "[encoded data removed]",
            "text/plain": [
              "<Figure size 432x288 with 1 Axes>"
            ]
          },
          "metadata": {
            "tags": [],
            "needs_background": "light"
          }
        },
        {
          "output_type": "display_data",
          "data": {
            "image/png": "[encoded data removed]",
            "text/plain": [
              "<Figure size 432x288 with 1 Axes>"
            ]
          },
          "metadata": {
            "tags": [],
            "needs_background": "light"
          }
        },
        {
          "output_type": "display_data",
          "data": {
            "image/png": "[encoded data removed]",
            "text/plain": [
              "<Figure size 432x288 with 1 Axes>"
            ]
          },
          "metadata": {
            "tags": [],
            "needs_background": "light"
          }
        },
        {
          "output_type": "display_data",
          "data": {
            "image/png": "[encoded data removed]",
            "text/plain": [
              "<Figure size 432x288 with 1 Axes>"
            ]
          },
          "metadata": {
            "tags": [],
            "needs_background": "light"
          }
        }
      ]
    },
    {
      "cell_type": "code",
      "metadata": {
        "id": "97wxXRrff2cM"
      },
      "source": [
        ""
      ],
      "execution_count": null,
      "outputs": []
    }
  ]
}