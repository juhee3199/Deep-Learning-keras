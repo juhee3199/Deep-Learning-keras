{
  "nbformat": 4,
  "nbformat_minor": 0,
  "metadata": {
    "colab": {
      "name": "ch3 신경망 시작하기.ipynb",
      "provenance": [],
      "collapsed_sections": [],
      "mount_file_id": "1ODnVHGceWCp9BkLWpmKhpPQ7jUB-E5Cr",
      "authorship_tag": "ABX9TyPSJUCIUmJkAQRc4YymdxsD",
      "include_colab_link": true
    },
    "kernelspec": {
      "name": "python3",
      "display_name": "Python 3"
    }
  },
  "cells": [
    {
      "cell_type": "markdown",
      "metadata": {
        "id": "view-in-github",
        "colab_type": "text"
      },
      "source": [
        "<a href=\"https://colab.research.google.com/github/juhee3199/DeepLearning-keras/blob/main/%EC%8B%A4%EC%8A%B5%EC%BD%94%EB%93%9C/ch3_%EC%8B%A0%EA%B2%BD%EB%A7%9D_%EC%8B%9C%EC%9E%91%ED%95%98%EA%B8%B0.ipynb\" target=\"_parent\"><img src=\"https://colab.research.google.com/assets/colab-badge.svg\" alt=\"Open In Colab\"/></a>"
      ]
    },
    {
      "cell_type": "markdown",
      "metadata": {
        "id": "PYOleGSb59vP"
      },
      "source": [
        "# 3.1 신경망의 구조\n",
        "- 네트워크(모델)을 구성하는 층\n",
        "- 입력데이터와 타깃\n",
        "- 손실함수: 학습에 사용할 피드백 신호를 정의\n",
        "- 옵티마이저: 학습 진행방식 결정\n",
        "\n"
      ]
    },
    {
      "cell_type": "markdown",
      "metadata": {
        "id": "HOXLsYQVxefs"
      },
      "source": [
        "#### 3.1.1 층 호완성\n",
        "\n",
        "층마다 적절한 텐서 포맷과 데이터 처리 방식이 다름.\n",
        "- 2D tensor : 보통 밀집 연결 층(dense connected layer) 으로 처리 (ex.케라스 에서는 DENSE)\n",
        "- 3D tensor : 순환층(recurrent layer) (ex. LSTM)\n",
        "- 4D tensor : 2D 합성곱(convolution layer) ( ex. Conv2D)\n",
        "\n",
        "\n",
        "--> keras의 층 호환성: 입력 크기를 자동으로 상위 층의 크기에 맞추어 결정한다."
      ]
    },
    {
      "cell_type": "code",
      "metadata": {
        "id": "UEAHNrpFwhmJ"
      },
      "source": [
        "from keras import layers\n",
        "layer = layers.Dense(32, input_shape=(784,)) #32개의 유닛으로 된 밀집 층"
      ],
      "execution_count": null,
      "outputs": []
    },
    {
      "cell_type": "code",
      "metadata": {
        "id": "fBphcRUgytti"
      },
      "source": [
        "from keras import models\n",
        "from keras import layers\n",
        "\n",
        "model=models.Sequential()\n",
        "model.add(layers.Dense(32, input_shape=(784,)))\n",
        "model.add(layers.Dense(10))"
      ],
      "execution_count": null,
      "outputs": []
    },
    {
      "cell_type": "markdown",
      "metadata": {
        "id": "BaCLn-GM3q-q"
      },
      "source": [
        "3.2.2 케라스 사용\n",
        "- 모델 정의 방법 두 가지: Sequential 클래스, 함수형 API(7장)"
      ]
    },
    {
      "cell_type": "code",
      "metadata": {
        "id": "MbFOGqjQy5jk"
      },
      "source": [
        "# 1) Sequential 클래스\n",
        "model = models.Sequential()\n",
        "model.add(layers.Dense(32, activation='relu', input_shape=(784,)))\n",
        "model.add(layers.Dense(10,activation='softmax'))"
      ],
      "execution_count": null,
      "outputs": []
    },
    {
      "cell_type": "code",
      "metadata": {
        "id": "FIZC4kaZ4DjG"
      },
      "source": [
        "# 2) 같은 모델의 함수형 API\n",
        "\n",
        "input_tensor=layers.Input(shape=784,)\n",
        "x=layers.Dense(32, activation='relu')(input_tensor)\n",
        "output_tensor=layers.Dense(10,activation='softmax')(x)\n",
        "\n",
        "model=models.Model(inputs=input_tensor, outputs=output_tensor)"
      ],
      "execution_count": null,
      "outputs": []
    },
    {
      "cell_type": "code",
      "metadata": {
        "id": "n9sRq-aB4boM",
        "outputId": "8b265d0b-4bb2-4a83-cd4d-e920df86d3e1",
        "colab": {
          "base_uri": "https://localhost:8080/",
          "height": 206
        }
      },
      "source": [
        "# 모델구조 정의 후에는 동일 (Sequential 클래스, 함수형 API 모두 동일)\n",
        "\n",
        "from keras import optimizers\n",
        "model.compile(optimizer=optimizers.RMSprop(lr=0.001),\n",
        "              loss='mse',\n",
        "              metrics=['accuracy'])\n",
        "\n",
        "# 타겟 데이터(numpy배열)을 모델의 fit()에 전달\n",
        "model.fit(input_tensor, target_tensor, batch_size=128, epochs=18) "
      ],
      "execution_count": null,
      "outputs": [
        {
          "output_type": "error",
          "ename": "NameError",
          "evalue": "ignored",
          "traceback": [
            "\u001b[0;31m---------------------------------------------------------------------------\u001b[0m",
            "\u001b[0;31mNameError\u001b[0m                                 Traceback (most recent call last)",
            "\u001b[0;32m<ipython-input-14-069b9ac9772e>\u001b[0m in \u001b[0;36m<module>\u001b[0;34m()\u001b[0m\n\u001b[1;32m      7\u001b[0m \u001b[0;34m\u001b[0m\u001b[0m\n\u001b[1;32m      8\u001b[0m \u001b[0;31m# 타겟 데이터(numpy배열)을 모델의 fit()에 전달\u001b[0m\u001b[0;34m\u001b[0m\u001b[0;34m\u001b[0m\u001b[0;34m\u001b[0m\u001b[0m\n\u001b[0;32m----> 9\u001b[0;31m \u001b[0mmodel\u001b[0m\u001b[0;34m.\u001b[0m\u001b[0mfit\u001b[0m\u001b[0;34m(\u001b[0m\u001b[0minput_tensor\u001b[0m\u001b[0;34m,\u001b[0m \u001b[0mtarget_tensor\u001b[0m\u001b[0;34m,\u001b[0m \u001b[0mbatch_size\u001b[0m\u001b[0;34m=\u001b[0m\u001b[0;36m128\u001b[0m\u001b[0;34m,\u001b[0m \u001b[0mepochs\u001b[0m\u001b[0;34m=\u001b[0m\u001b[0;36m18\u001b[0m\u001b[0;34m)\u001b[0m\u001b[0;34m\u001b[0m\u001b[0;34m\u001b[0m\u001b[0m\n\u001b[0m",
            "\u001b[0;31mNameError\u001b[0m: name 'target_tensor' is not defined"
          ]
        }
      ]
    },
    {
      "cell_type": "markdown",
      "metadata": {
        "id": "gncIAbsQ7QTZ"
      },
      "source": [
        "## 3.4 영화 리뷰 분류: 이진 분류"
      ]
    },
    {
      "cell_type": "code",
      "metadata": {
        "id": "YdWwlUoX7Ol0",
        "outputId": "b20381de-41c3-43cd-b8f7-a29ec932f0af",
        "colab": {
          "base_uri": "https://localhost:8080/"
        }
      },
      "source": [
        "from keras.datasets import imdb\n",
        "\n",
        "(train_data, train_labels), (test_data, test_labels) = imdb.load_data(num_words=10000)"
      ],
      "execution_count": null,
      "outputs": [
        {
          "output_type": "stream",
          "text": [
            "Downloading data from https://storage.googleapis.com/tensorflow/tf-keras-datasets/imdb.npz\n",
            "17465344/17464789 [==============================] - 0s 0us/step\n"
          ],
          "name": "stdout"
        }
      ]
    },
    {
      "cell_type": "code",
      "metadata": {
        "id": "GFmzsvlT7i3-",
        "outputId": "3d93998f-668f-4da3-f4ef-d67d972e0ac3",
        "colab": {
          "base_uri": "https://localhost:8080/"
        }
      },
      "source": [
        "train_data[0] # 각 리뷰는 단어 인덱스의 리스트 (단어 시퀀스가 인코딩된 것)"
      ],
      "execution_count": null,
      "outputs": [
        {
          "output_type": "execute_result",
          "data": {
            "text/plain": [
              "[1,\n",
              " 14,\n",
              " 22,\n",
              " 16,\n",
              " 43,\n",
              " 530,\n",
              " 973,\n",
              " 1622,\n",
              " 1385,\n",
              " 65,\n",
              " 458,\n",
              " 4468,\n",
              " 66,\n",
              " 3941,\n",
              " 4,\n",
              " 173,\n",
              " 36,\n",
              " 256,\n",
              " 5,\n",
              " 25,\n",
              " 100,\n",
              " 43,\n",
              " 838,\n",
              " 112,\n",
              " 50,\n",
              " 670,\n",
              " 2,\n",
              " 9,\n",
              " 35,\n",
              " 480,\n",
              " 284,\n",
              " 5,\n",
              " 150,\n",
              " 4,\n",
              " 172,\n",
              " 112,\n",
              " 167,\n",
              " 2,\n",
              " 336,\n",
              " 385,\n",
              " 39,\n",
              " 4,\n",
              " 172,\n",
              " 4536,\n",
              " 1111,\n",
              " 17,\n",
              " 546,\n",
              " 38,\n",
              " 13,\n",
              " 447,\n",
              " 4,\n",
              " 192,\n",
              " 50,\n",
              " 16,\n",
              " 6,\n",
              " 147,\n",
              " 2025,\n",
              " 19,\n",
              " 14,\n",
              " 22,\n",
              " 4,\n",
              " 1920,\n",
              " 4613,\n",
              " 469,\n",
              " 4,\n",
              " 22,\n",
              " 71,\n",
              " 87,\n",
              " 12,\n",
              " 16,\n",
              " 43,\n",
              " 530,\n",
              " 38,\n",
              " 76,\n",
              " 15,\n",
              " 13,\n",
              " 1247,\n",
              " 4,\n",
              " 22,\n",
              " 17,\n",
              " 515,\n",
              " 17,\n",
              " 12,\n",
              " 16,\n",
              " 626,\n",
              " 18,\n",
              " 2,\n",
              " 5,\n",
              " 62,\n",
              " 386,\n",
              " 12,\n",
              " 8,\n",
              " 316,\n",
              " 8,\n",
              " 106,\n",
              " 5,\n",
              " 4,\n",
              " 2223,\n",
              " 5244,\n",
              " 16,\n",
              " 480,\n",
              " 66,\n",
              " 3785,\n",
              " 33,\n",
              " 4,\n",
              " 130,\n",
              " 12,\n",
              " 16,\n",
              " 38,\n",
              " 619,\n",
              " 5,\n",
              " 25,\n",
              " 124,\n",
              " 51,\n",
              " 36,\n",
              " 135,\n",
              " 48,\n",
              " 25,\n",
              " 1415,\n",
              " 33,\n",
              " 6,\n",
              " 22,\n",
              " 12,\n",
              " 215,\n",
              " 28,\n",
              " 77,\n",
              " 52,\n",
              " 5,\n",
              " 14,\n",
              " 407,\n",
              " 16,\n",
              " 82,\n",
              " 2,\n",
              " 8,\n",
              " 4,\n",
              " 107,\n",
              " 117,\n",
              " 5952,\n",
              " 15,\n",
              " 256,\n",
              " 4,\n",
              " 2,\n",
              " 7,\n",
              " 3766,\n",
              " 5,\n",
              " 723,\n",
              " 36,\n",
              " 71,\n",
              " 43,\n",
              " 530,\n",
              " 476,\n",
              " 26,\n",
              " 400,\n",
              " 317,\n",
              " 46,\n",
              " 7,\n",
              " 4,\n",
              " 2,\n",
              " 1029,\n",
              " 13,\n",
              " 104,\n",
              " 88,\n",
              " 4,\n",
              " 381,\n",
              " 15,\n",
              " 297,\n",
              " 98,\n",
              " 32,\n",
              " 2071,\n",
              " 56,\n",
              " 26,\n",
              " 141,\n",
              " 6,\n",
              " 194,\n",
              " 7486,\n",
              " 18,\n",
              " 4,\n",
              " 226,\n",
              " 22,\n",
              " 21,\n",
              " 134,\n",
              " 476,\n",
              " 26,\n",
              " 480,\n",
              " 5,\n",
              " 144,\n",
              " 30,\n",
              " 5535,\n",
              " 18,\n",
              " 51,\n",
              " 36,\n",
              " 28,\n",
              " 224,\n",
              " 92,\n",
              " 25,\n",
              " 104,\n",
              " 4,\n",
              " 226,\n",
              " 65,\n",
              " 16,\n",
              " 38,\n",
              " 1334,\n",
              " 88,\n",
              " 12,\n",
              " 16,\n",
              " 283,\n",
              " 5,\n",
              " 16,\n",
              " 4472,\n",
              " 113,\n",
              " 103,\n",
              " 32,\n",
              " 15,\n",
              " 16,\n",
              " 5345,\n",
              " 19,\n",
              " 178,\n",
              " 32]"
            ]
          },
          "metadata": {
            "tags": []
          },
          "execution_count": 18
        }
      ]
    },
    {
      "cell_type": "code",
      "metadata": {
        "id": "j9ypVAKP7taJ",
        "outputId": "4c09618e-58c1-4113-ae67-794210fe9297",
        "colab": {
          "base_uri": "https://localhost:8080/"
        }
      },
      "source": [
        "train_labels"
      ],
      "execution_count": null,
      "outputs": [
        {
          "output_type": "execute_result",
          "data": {
            "text/plain": [
              "array([1, 0, 0, ..., 0, 1, 0])"
            ]
          },
          "metadata": {
            "tags": []
          },
          "execution_count": 20
        }
      ]
    },
    {
      "cell_type": "code",
      "metadata": {
        "id": "W3QezIxs72N3",
        "outputId": "64fcf0dc-8720-4226-a3e0-6afe73c1aa38",
        "colab": {
          "base_uri": "https://localhost:8080/"
        }
      },
      "source": [
        "word_index=imdb.get_word_index()  #단어와 정수 인덱스 매핑\n",
        "reverse_word_index=dict([(value,key) for (key, value) in word_index.items()]) #정수인덱스와 단어를 매핑하도록 뒤집음\n",
        "decoded_review=' '.join([reverse_word_index.get(i-3,'?')for i in train_data[0]]) #리뷰를 디코딩"
      ],
      "execution_count": null,
      "outputs": [
        {
          "output_type": "stream",
          "text": [
            "Downloading data from https://storage.googleapis.com/tensorflow/tf-keras-datasets/imdb_word_index.json\n",
            "1646592/1641221 [==============================] - 0s 0us/step\n"
          ],
          "name": "stdout"
        }
      ]
    },
    {
      "cell_type": "markdown",
      "metadata": {
        "id": "mRGcSTFi8n_j"
      },
      "source": [
        "3.4.2 데이터 준비\n",
        "숫자 리스트를 텐서로 변경.\n",
        "\n",
        "1. 같은 길이가 되도록 리스트에 페딩 추가. (samples, sequence_length)크기의 정수 텐서로 변환. \n",
        "이 정수 텐서를 다룰 수 있는 층을 신경망의 첫 번째 층으로 사용\n",
        "\n",
        "2. 리스트를 one-hot-encoding. 0과 1의 벡터로 변환."
      ]
    },
    {
      "cell_type": "code",
      "metadata": {
        "id": "gNpaOks479Q0"
      },
      "source": [
        "## 데이터 준비\n",
        "# one-hot-encoding\n",
        "\n",
        "import numpy as np\n",
        "def vectorize_sequences(sequences,dimension=10000):\n",
        "  results=np.zeros((len(sequences), dimension)) # (len(sequensces), dimension) 크기의 모든 원소가 0인 행렬.\n",
        "  for i, sequence in enumerate(sequences):\n",
        "    results[i, sequence] = 1. #results[i]에서 특정 인덱스의 위치를 1로 만듦.\n",
        "  return results\n",
        "\n",
        "# 벡터로 변환\n",
        "x_train=vectorize_sequences(train_data)\n",
        "y_train=vectorize_sequences(test_data)"
      ],
      "execution_count": null,
      "outputs": []
    },
    {
      "cell_type": "code",
      "metadata": {
        "id": "c5u5N1z49mzN",
        "outputId": "954de35d-a6ef-465e-9140-af7c1d1e8876",
        "colab": {
          "base_uri": "https://localhost:8080/"
        }
      },
      "source": [
        "x_train"
      ],
      "execution_count": null,
      "outputs": [
        {
          "output_type": "execute_result",
          "data": {
            "text/plain": [
              "array([[0., 1., 1., ..., 0., 0., 0.],\n",
              "       [0., 1., 1., ..., 0., 0., 0.],\n",
              "       [0., 1., 1., ..., 0., 0., 0.],\n",
              "       ...,\n",
              "       [0., 1., 1., ..., 0., 0., 0.],\n",
              "       [0., 1., 1., ..., 0., 0., 0.],\n",
              "       [0., 1., 1., ..., 0., 0., 0.]])"
            ]
          },
          "metadata": {
            "tags": []
          },
          "execution_count": 25
        }
      ]
    },
    {
      "cell_type": "code",
      "metadata": {
        "id": "bzqodrbX9wkQ"
      },
      "source": [
        "# 레이블을 쉽게 벡터로 바꿈.\n",
        "\n",
        "y_train=np.asarray(train_labels).astype('float32')\n",
        "y_test=np.asarray(test_labels).astype('float32')"
      ],
      "execution_count": null,
      "outputs": []
    },
    {
      "cell_type": "code",
      "metadata": {
        "id": "A6wDOjcc-JJI"
      },
      "source": [
        "# 신경망 모델 생성\n",
        "# relu: 음수를 0으로 만드는 함수\n",
        "\n",
        "model = models.Sequential()\n",
        "model.add(layers.Dense(16, activation='relu', input_shape=(10000,)))\n",
        "model.add(layers.Dense(16, activation='relu'))\n",
        "model.add(layers.Dense(1,activation='sigmoid'))"
      ],
      "execution_count": null,
      "outputs": []
    },
    {
      "cell_type": "code",
      "metadata": {
        "id": "POp_KlyP-l4Z"
      },
      "source": [
        "# 손실함수와 옵티마이저\n",
        "\n",
        "model.compile(optimizer='rmsprop',\n",
        "              loss='binary_crossentropy',\n",
        "              metrics=['accuracy'])"
      ],
      "execution_count": null,
      "outputs": []
    },
    {
      "cell_type": "markdown",
      "metadata": {
        "id": "-hSOAgtPBtfr"
      },
      "source": [
        "3.4.4 훈련 검증"
      ]
    },
    {
      "cell_type": "code",
      "metadata": {
        "id": "1w3PBhJ_AX9H"
      },
      "source": [
        "# validation dataset 준비\n",
        "\n",
        "x_val=x_train[:10000]\n",
        "partial_x_train=x_train[10000:]\n",
        "\n",
        "y_val=y_train[:10000]\n",
        "partial_y_train=y_train[10000:]"
      ],
      "execution_count": null,
      "outputs": []
    },
    {
      "cell_type": "code",
      "metadata": {
        "id": "jvquL_oWA6kF",
        "outputId": "53bb9a55-2ac6-4186-fbbe-68da584c7fcb",
        "colab": {
          "base_uri": "https://localhost:8080/"
        }
      },
      "source": [
        "# 모델 훈련\n",
        "\n",
        "history=model.fit(partial_x_train,\n",
        "                  partial_y_train,\n",
        "                  epochs=20,\n",
        "                  batch_size=512,\n",
        "                  validation_data=(x_val,y_val))"
      ],
      "execution_count": null,
      "outputs": [
        {
          "output_type": "stream",
          "text": [
            "Epoch 1/20\n",
            "30/30 [==============================] - 1s 49ms/step - loss: 0.5146 - accuracy: 0.7885 - val_loss: 0.3830 - val_accuracy: 0.8716\n",
            "Epoch 2/20\n",
            "30/30 [==============================] - 1s 36ms/step - loss: 0.3069 - accuracy: 0.9032 - val_loss: 0.3028 - val_accuracy: 0.8890\n",
            "Epoch 3/20\n",
            "30/30 [==============================] - 1s 36ms/step - loss: 0.2242 - accuracy: 0.9272 - val_loss: 0.2844 - val_accuracy: 0.8895\n",
            "Epoch 4/20\n",
            "30/30 [==============================] - 1s 36ms/step - loss: 0.1773 - accuracy: 0.9421 - val_loss: 0.2904 - val_accuracy: 0.8860\n",
            "Epoch 5/20\n",
            "30/30 [==============================] - 1s 36ms/step - loss: 0.1430 - accuracy: 0.9549 - val_loss: 0.2811 - val_accuracy: 0.8877\n",
            "Epoch 6/20\n",
            "30/30 [==============================] - 1s 35ms/step - loss: 0.1185 - accuracy: 0.9633 - val_loss: 0.3286 - val_accuracy: 0.8796\n",
            "Epoch 7/20\n",
            "30/30 [==============================] - 1s 36ms/step - loss: 0.0978 - accuracy: 0.9694 - val_loss: 0.3174 - val_accuracy: 0.8808\n",
            "Epoch 8/20\n",
            "30/30 [==============================] - 1s 36ms/step - loss: 0.0828 - accuracy: 0.9749 - val_loss: 0.3308 - val_accuracy: 0.8804\n",
            "Epoch 9/20\n",
            "30/30 [==============================] - 1s 36ms/step - loss: 0.0649 - accuracy: 0.9819 - val_loss: 0.3576 - val_accuracy: 0.8787\n",
            "Epoch 10/20\n",
            "30/30 [==============================] - 1s 36ms/step - loss: 0.0547 - accuracy: 0.9856 - val_loss: 0.3813 - val_accuracy: 0.8789\n",
            "Epoch 11/20\n",
            "30/30 [==============================] - 1s 36ms/step - loss: 0.0452 - accuracy: 0.9888 - val_loss: 0.4098 - val_accuracy: 0.8746\n",
            "Epoch 12/20\n",
            "30/30 [==============================] - 1s 36ms/step - loss: 0.0337 - accuracy: 0.9935 - val_loss: 0.4477 - val_accuracy: 0.8702\n",
            "Epoch 13/20\n",
            "30/30 [==============================] - 1s 36ms/step - loss: 0.0268 - accuracy: 0.9956 - val_loss: 0.4691 - val_accuracy: 0.8711\n",
            "Epoch 14/20\n",
            "30/30 [==============================] - 1s 36ms/step - loss: 0.0225 - accuracy: 0.9965 - val_loss: 0.5041 - val_accuracy: 0.8717\n",
            "Epoch 15/20\n",
            "30/30 [==============================] - 1s 35ms/step - loss: 0.0165 - accuracy: 0.9977 - val_loss: 0.5372 - val_accuracy: 0.8680\n",
            "Epoch 16/20\n",
            "30/30 [==============================] - 1s 36ms/step - loss: 0.0121 - accuracy: 0.9987 - val_loss: 0.6306 - val_accuracy: 0.8559\n",
            "Epoch 17/20\n",
            "30/30 [==============================] - 1s 36ms/step - loss: 0.0084 - accuracy: 0.9995 - val_loss: 0.6131 - val_accuracy: 0.8701\n",
            "Epoch 18/20\n",
            "30/30 [==============================] - 1s 36ms/step - loss: 0.0097 - accuracy: 0.9985 - val_loss: 0.6464 - val_accuracy: 0.8665\n",
            "Epoch 19/20\n",
            "30/30 [==============================] - 1s 36ms/step - loss: 0.0042 - accuracy: 0.9999 - val_loss: 0.6884 - val_accuracy: 0.8647\n",
            "Epoch 20/20\n",
            "30/30 [==============================] - 1s 35ms/step - loss: 0.0059 - accuracy: 0.9992 - val_loss: 0.7215 - val_accuracy: 0.8658\n"
          ],
          "name": "stdout"
        }
      ]
    },
    {
      "cell_type": "code",
      "metadata": {
        "id": "S8L2GMa7BXOf"
      },
      "source": [
        ""
      ],
      "execution_count": null,
      "outputs": []
    }
  ]
}